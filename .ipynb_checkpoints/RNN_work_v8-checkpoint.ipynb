{
 "cells": [
  {
   "cell_type": "markdown",
   "id": "58913f3c-f535-4357-846d-dc89dc74b2c8",
   "metadata": {},
   "source": [
    "# Predicting user interactions on a website\n",
    "\n",
    " - ### User interactions are highly time dependent, so the problem can be defined as time series analysis. There are many methods to predict interaction, but one of the methods is to use RNN\n",
    "\n",
    " - ### This is assumed to be a multiclass classification problem - the user interaction is predicted to belong to only one class among many classes.\n",
    "\n",
    "## 1. Data preprocessing"
   ]
  },
  {
   "cell_type": "markdown",
   "id": "de9317cb-beac-4fcc-802f-59085c137045",
   "metadata": {},
   "source": [
    "### 1.1. Import"
   ]
  },
  {
   "cell_type": "code",
   "execution_count": 6,
   "id": "6f27659c-0fd2-4b21-95b9-342d045a00dc",
   "metadata": {},
   "outputs": [],
   "source": [
    "import numpy as np\n",
    "import pandas as pd\n",
    "import torch\n",
    "import torch.nn as nn\n",
    "import torch.optim as optim\n",
    "from sklearn.preprocessing import LabelEncoder\n",
    "from torch.nn.utils.rnn import pad_sequence\n",
    "from torch.utils.data import Dataset, DataLoader\n",
    "from sklearn.preprocessing import StandardScaler\n",
    "import torch.nn.functional as F\n",
    "from sklearn.model_selection import train_test_split\n",
    "from torch.utils.data import Dataset\n",
    "from IPython.display import display\n",
    "import matplotlib.pyplot as plt\n",
    "from sklearn.metrics import roc_curve, auc\n",
    "from sklearn.preprocessing import label_binarize"
   ]
  },
  {
   "cell_type": "markdown",
   "id": "1397aec3-c003-4d04-b847-192141c311b2",
   "metadata": {},
   "source": [
    "## 1.2. Reding CSV\n",
    "The first step is to get the data. In this case, the data in the form of a csv file was downloaded from kaggle.com locally to the computer and read. The data is now a Pandas DataFrame object, which allows for easy transformations and conversions."
   ]
  },
  {
   "cell_type": "code",
   "execution_count": 8,
   "id": "b0e6c9ae-b5c1-46a5-b20f-61d54a01f572",
   "metadata": {},
   "outputs": [],
   "source": [
    "df = pd.read_csv(\"clicks.csv\")"
   ]
  },
  {
   "cell_type": "code",
   "execution_count": 9,
   "id": "1ed7b7c9-3e08-4076-b3b5-f6b739109d82",
   "metadata": {},
   "outputs": [
    {
     "data": {
      "text/html": [
       "<div>\n",
       "<style scoped>\n",
       "    .dataframe tbody tr th:only-of-type {\n",
       "        vertical-align: middle;\n",
       "    }\n",
       "\n",
       "    .dataframe tbody tr th {\n",
       "        vertical-align: top;\n",
       "    }\n",
       "\n",
       "    .dataframe thead th {\n",
       "        text-align: right;\n",
       "    }\n",
       "</style>\n",
       "<table border=\"1\" class=\"dataframe\">\n",
       "  <thead>\n",
       "    <tr style=\"text-align: right;\">\n",
       "      <th></th>\n",
       "      <th>UserID</th>\n",
       "      <th>SessionID</th>\n",
       "      <th>Timestamp</th>\n",
       "      <th>EventType</th>\n",
       "      <th>ProductID</th>\n",
       "      <th>Amount</th>\n",
       "      <th>Outcome</th>\n",
       "    </tr>\n",
       "  </thead>\n",
       "  <tbody>\n",
       "    <tr>\n",
       "      <th>0</th>\n",
       "      <td>1</td>\n",
       "      <td>1</td>\n",
       "      <td>2024-07-07 18:00:26.959902</td>\n",
       "      <td>page_view</td>\n",
       "      <td>NaN</td>\n",
       "      <td>NaN</td>\n",
       "      <td>NaN</td>\n",
       "    </tr>\n",
       "    <tr>\n",
       "      <th>1</th>\n",
       "      <td>1</td>\n",
       "      <td>1</td>\n",
       "      <td>2024-03-05 22:01:00.072000</td>\n",
       "      <td>page_view</td>\n",
       "      <td>NaN</td>\n",
       "      <td>NaN</td>\n",
       "      <td>NaN</td>\n",
       "    </tr>\n",
       "    <tr>\n",
       "      <th>2</th>\n",
       "      <td>1</td>\n",
       "      <td>1</td>\n",
       "      <td>2024-03-23 22:08:10.568453</td>\n",
       "      <td>product_view</td>\n",
       "      <td>prod_8199</td>\n",
       "      <td>NaN</td>\n",
       "      <td>NaN</td>\n",
       "    </tr>\n",
       "    <tr>\n",
       "      <th>3</th>\n",
       "      <td>1</td>\n",
       "      <td>1</td>\n",
       "      <td>2024-03-12 00:32:05.495638</td>\n",
       "      <td>add_to_cart</td>\n",
       "      <td>prod_4112</td>\n",
       "      <td>NaN</td>\n",
       "      <td>NaN</td>\n",
       "    </tr>\n",
       "    <tr>\n",
       "      <th>4</th>\n",
       "      <td>1</td>\n",
       "      <td>1</td>\n",
       "      <td>2024-02-25 22:43:01.318876</td>\n",
       "      <td>add_to_cart</td>\n",
       "      <td>prod_3354</td>\n",
       "      <td>NaN</td>\n",
       "      <td>NaN</td>\n",
       "    </tr>\n",
       "  </tbody>\n",
       "</table>\n",
       "</div>"
      ],
      "text/plain": [
       "   UserID  SessionID                   Timestamp     EventType  ProductID  \\\n",
       "0       1          1  2024-07-07 18:00:26.959902     page_view        NaN   \n",
       "1       1          1  2024-03-05 22:01:00.072000     page_view        NaN   \n",
       "2       1          1  2024-03-23 22:08:10.568453  product_view  prod_8199   \n",
       "3       1          1  2024-03-12 00:32:05.495638   add_to_cart  prod_4112   \n",
       "4       1          1  2024-02-25 22:43:01.318876   add_to_cart  prod_3354   \n",
       "\n",
       "   Amount Outcome  \n",
       "0     NaN     NaN  \n",
       "1     NaN     NaN  \n",
       "2     NaN     NaN  \n",
       "3     NaN     NaN  \n",
       "4     NaN     NaN  "
      ]
     },
     "execution_count": 9,
     "metadata": {},
     "output_type": "execute_result"
    }
   ],
   "source": [
    "df.head()"
   ]
  },
  {
   "cell_type": "markdown",
   "id": "8a18e6f2-8519-48f3-849e-72aeb3452609",
   "metadata": {},
   "source": [
    "# 1.3. Dividing data into values and predictions\n",
    "\n",
    " We separate the data into values ​​and expectations. Values ​​marked as \"X\" describe the data that is the basis for predicting user interactions, based on them we predict what the user will do. DataFrame values ​​:y\" describe what we want to predict based on the X value - i.e. the specific user behavior. Separating this data is necessary to train the model and is tested - thanks to this, the model can adapt to better predict the y value based on the X value. To do this, we extract df from the DataFrame containing the X and y data.\n",
    " "
   ]
  },
  {
   "cell_type": "code",
   "execution_count": 11,
   "id": "54ff6e30-fdf9-40db-840f-d18b9ccf8b95",
   "metadata": {},
   "outputs": [],
   "source": [
    "X = df.drop('EventType', axis=1) \n",
    "y = pd.DataFrame(df['EventType'], columns=['EventType'])"
   ]
  },
  {
   "cell_type": "code",
   "execution_count": 12,
   "id": "b45c4a90-0f40-4d3a-9c5e-1b5b0638bf60",
   "metadata": {},
   "outputs": [
    {
     "name": "stdout",
     "output_type": "stream",
     "text": [
      "First 5 values from X DataFrame\n"
     ]
    },
    {
     "data": {
      "text/html": [
       "<div>\n",
       "<style scoped>\n",
       "    .dataframe tbody tr th:only-of-type {\n",
       "        vertical-align: middle;\n",
       "    }\n",
       "\n",
       "    .dataframe tbody tr th {\n",
       "        vertical-align: top;\n",
       "    }\n",
       "\n",
       "    .dataframe thead th {\n",
       "        text-align: right;\n",
       "    }\n",
       "</style>\n",
       "<table border=\"1\" class=\"dataframe\">\n",
       "  <thead>\n",
       "    <tr style=\"text-align: right;\">\n",
       "      <th></th>\n",
       "      <th>UserID</th>\n",
       "      <th>SessionID</th>\n",
       "      <th>Timestamp</th>\n",
       "      <th>ProductID</th>\n",
       "      <th>Amount</th>\n",
       "      <th>Outcome</th>\n",
       "    </tr>\n",
       "  </thead>\n",
       "  <tbody>\n",
       "    <tr>\n",
       "      <th>0</th>\n",
       "      <td>1</td>\n",
       "      <td>1</td>\n",
       "      <td>2024-07-07 18:00:26.959902</td>\n",
       "      <td>NaN</td>\n",
       "      <td>NaN</td>\n",
       "      <td>NaN</td>\n",
       "    </tr>\n",
       "    <tr>\n",
       "      <th>1</th>\n",
       "      <td>1</td>\n",
       "      <td>1</td>\n",
       "      <td>2024-03-05 22:01:00.072000</td>\n",
       "      <td>NaN</td>\n",
       "      <td>NaN</td>\n",
       "      <td>NaN</td>\n",
       "    </tr>\n",
       "    <tr>\n",
       "      <th>2</th>\n",
       "      <td>1</td>\n",
       "      <td>1</td>\n",
       "      <td>2024-03-23 22:08:10.568453</td>\n",
       "      <td>prod_8199</td>\n",
       "      <td>NaN</td>\n",
       "      <td>NaN</td>\n",
       "    </tr>\n",
       "    <tr>\n",
       "      <th>3</th>\n",
       "      <td>1</td>\n",
       "      <td>1</td>\n",
       "      <td>2024-03-12 00:32:05.495638</td>\n",
       "      <td>prod_4112</td>\n",
       "      <td>NaN</td>\n",
       "      <td>NaN</td>\n",
       "    </tr>\n",
       "    <tr>\n",
       "      <th>4</th>\n",
       "      <td>1</td>\n",
       "      <td>1</td>\n",
       "      <td>2024-02-25 22:43:01.318876</td>\n",
       "      <td>prod_3354</td>\n",
       "      <td>NaN</td>\n",
       "      <td>NaN</td>\n",
       "    </tr>\n",
       "  </tbody>\n",
       "</table>\n",
       "</div>"
      ],
      "text/plain": [
       "   UserID  SessionID                   Timestamp  ProductID  Amount Outcome\n",
       "0       1          1  2024-07-07 18:00:26.959902        NaN     NaN     NaN\n",
       "1       1          1  2024-03-05 22:01:00.072000        NaN     NaN     NaN\n",
       "2       1          1  2024-03-23 22:08:10.568453  prod_8199     NaN     NaN\n",
       "3       1          1  2024-03-12 00:32:05.495638  prod_4112     NaN     NaN\n",
       "4       1          1  2024-02-25 22:43:01.318876  prod_3354     NaN     NaN"
      ]
     },
     "metadata": {},
     "output_type": "display_data"
    },
    {
     "name": "stdout",
     "output_type": "stream",
     "text": [
      "First 5 values from y DataFrame\n"
     ]
    },
    {
     "data": {
      "text/html": [
       "<div>\n",
       "<style scoped>\n",
       "    .dataframe tbody tr th:only-of-type {\n",
       "        vertical-align: middle;\n",
       "    }\n",
       "\n",
       "    .dataframe tbody tr th {\n",
       "        vertical-align: top;\n",
       "    }\n",
       "\n",
       "    .dataframe thead th {\n",
       "        text-align: right;\n",
       "    }\n",
       "</style>\n",
       "<table border=\"1\" class=\"dataframe\">\n",
       "  <thead>\n",
       "    <tr style=\"text-align: right;\">\n",
       "      <th></th>\n",
       "      <th>EventType</th>\n",
       "    </tr>\n",
       "  </thead>\n",
       "  <tbody>\n",
       "    <tr>\n",
       "      <th>0</th>\n",
       "      <td>page_view</td>\n",
       "    </tr>\n",
       "    <tr>\n",
       "      <th>1</th>\n",
       "      <td>page_view</td>\n",
       "    </tr>\n",
       "    <tr>\n",
       "      <th>2</th>\n",
       "      <td>product_view</td>\n",
       "    </tr>\n",
       "    <tr>\n",
       "      <th>3</th>\n",
       "      <td>add_to_cart</td>\n",
       "    </tr>\n",
       "    <tr>\n",
       "      <th>4</th>\n",
       "      <td>add_to_cart</td>\n",
       "    </tr>\n",
       "  </tbody>\n",
       "</table>\n",
       "</div>"
      ],
      "text/plain": [
       "      EventType\n",
       "0     page_view\n",
       "1     page_view\n",
       "2  product_view\n",
       "3   add_to_cart\n",
       "4   add_to_cart"
      ]
     },
     "metadata": {},
     "output_type": "display_data"
    }
   ],
   "source": [
    "print(\"First 5 values from X DataFrame\")\n",
    "display(X.head())\n",
    "\n",
    "print(\"First 5 values from y DataFrame\")\n",
    "display(y.head())"
   ]
  },
  {
   "cell_type": "markdown",
   "id": "675a5cf4-c9f9-48da-babc-50f45375bd91",
   "metadata": {},
   "source": [
    "## 1.4 Data encoding to number types\n",
    "\n",
    "When preparing the data we need to convert it to numeric values. First we find the columns with the character string and convert it to numbers"
   ]
  },
  {
   "cell_type": "code",
   "execution_count": 14,
   "id": "3bf8e940-1cf6-4c44-8719-c397a1ec59df",
   "metadata": {},
   "outputs": [
    {
     "name": "stdout",
     "output_type": "stream",
     "text": [
      "Data Types\n"
     ]
    },
    {
     "data": {
      "text/plain": [
       "UserID         int64\n",
       "SessionID      int64\n",
       "Timestamp     object\n",
       "ProductID     object\n",
       "Amount       float64\n",
       "Outcome       object\n",
       "dtype: object"
      ]
     },
     "metadata": {},
     "output_type": "display_data"
    }
   ],
   "source": [
    "print(\"Data Types\")\n",
    "display(X.dtypes)"
   ]
  },
  {
   "cell_type": "markdown",
   "id": "cc68ef8d-f419-4f82-a6bc-55f5295874d5",
   "metadata": {},
   "source": [
    "### 1.4.1 Time column to numbers conversion\n",
    "\n",
    "First you need to convert the date string to Timestamp format for later processing"
   ]
  },
  {
   "cell_type": "code",
   "execution_count": 16,
   "id": "53edf9be-0463-43ea-9dba-4ff522d6f74d",
   "metadata": {},
   "outputs": [],
   "source": [
    "X['Timestamp'] = pd.to_datetime(X['Timestamp'])"
   ]
  },
  {
   "cell_type": "code",
   "execution_count": 17,
   "id": "6b3d7182-c0d6-4364-9641-f508c9b8166c",
   "metadata": {},
   "outputs": [
    {
     "name": "stdout",
     "output_type": "stream",
     "text": [
      "Data Types\n"
     ]
    },
    {
     "data": {
      "text/plain": [
       "UserID                int64\n",
       "SessionID             int64\n",
       "Timestamp    datetime64[ns]\n",
       "ProductID            object\n",
       "Amount              float64\n",
       "Outcome              object\n",
       "dtype: object"
      ]
     },
     "metadata": {},
     "output_type": "display_data"
    }
   ],
   "source": [
    "print(\"Data Types\")\n",
    "display(X.dtypes)"
   ]
  },
  {
   "cell_type": "markdown",
   "id": "d7f530ac-44ac-4496-89d0-15d4fad16062",
   "metadata": {},
   "source": [
    "#### 1.4.1.1 Convert date to number\n",
    "Let's create two functions to change the timestamp value to unix time and subtract values ​​of this type from a column"
   ]
  },
  {
   "cell_type": "code",
   "execution_count": 19,
   "id": "86725281-9385-4a40-9ef5-fef0e789abdc",
   "metadata": {},
   "outputs": [],
   "source": [
    "def datetime_to_milliseconds(series):\n",
    "    \"\"\"Convert column to unix epoch\"\"\"\n",
    "    return (series - pd.Timestamp(\"1970-01-01\")) // pd.Timedelta('1ms')\n",
    "\n",
    "def subtract_timestamp_milliseconds(series, timestamp):\n",
    "    \"\"\"Substract columns milisecnds and timestamp.\"\"\"\n",
    "    timestamp_milliseconds = (timestamp - pd.Timestamp(\"1970-01-01\")) // pd.Timedelta('1ms')\n",
    "    return series - timestamp_milliseconds"
   ]
  },
  {
   "cell_type": "markdown",
   "id": "bfa07644-0bda-40d8-9eeb-d720af63594c",
   "metadata": {},
   "source": [
    "Now let's use the function to convert the column to Unix time milliseconds"
   ]
  },
  {
   "cell_type": "code",
   "execution_count": 21,
   "id": "e0e610b9-da77-4d05-8f50-bf28ce87210a",
   "metadata": {},
   "outputs": [],
   "source": [
    "X['Timestamp']=datetime_to_milliseconds(X['Timestamp']).astype('int64')"
   ]
  },
  {
   "cell_type": "markdown",
   "id": "22c8c489-6c83-4a5d-a17d-81b4959f5dba",
   "metadata": {},
   "source": [
    "#### First 5 values from X DataFrame"
   ]
  },
  {
   "cell_type": "code",
   "execution_count": 23,
   "id": "9b923bfe-cea5-4ea5-b538-34e169b35665",
   "metadata": {},
   "outputs": [
    {
     "data": {
      "text/html": [
       "<div>\n",
       "<style scoped>\n",
       "    .dataframe tbody tr th:only-of-type {\n",
       "        vertical-align: middle;\n",
       "    }\n",
       "\n",
       "    .dataframe tbody tr th {\n",
       "        vertical-align: top;\n",
       "    }\n",
       "\n",
       "    .dataframe thead th {\n",
       "        text-align: right;\n",
       "    }\n",
       "</style>\n",
       "<table border=\"1\" class=\"dataframe\">\n",
       "  <thead>\n",
       "    <tr style=\"text-align: right;\">\n",
       "      <th></th>\n",
       "      <th>UserID</th>\n",
       "      <th>SessionID</th>\n",
       "      <th>Timestamp</th>\n",
       "      <th>ProductID</th>\n",
       "      <th>Amount</th>\n",
       "      <th>Outcome</th>\n",
       "    </tr>\n",
       "  </thead>\n",
       "  <tbody>\n",
       "    <tr>\n",
       "      <th>0</th>\n",
       "      <td>1</td>\n",
       "      <td>1</td>\n",
       "      <td>1720375226959</td>\n",
       "      <td>NaN</td>\n",
       "      <td>NaN</td>\n",
       "      <td>NaN</td>\n",
       "    </tr>\n",
       "    <tr>\n",
       "      <th>1</th>\n",
       "      <td>1</td>\n",
       "      <td>1</td>\n",
       "      <td>1709676060072</td>\n",
       "      <td>NaN</td>\n",
       "      <td>NaN</td>\n",
       "      <td>NaN</td>\n",
       "    </tr>\n",
       "    <tr>\n",
       "      <th>2</th>\n",
       "      <td>1</td>\n",
       "      <td>1</td>\n",
       "      <td>1711231690568</td>\n",
       "      <td>prod_8199</td>\n",
       "      <td>NaN</td>\n",
       "      <td>NaN</td>\n",
       "    </tr>\n",
       "    <tr>\n",
       "      <th>3</th>\n",
       "      <td>1</td>\n",
       "      <td>1</td>\n",
       "      <td>1710203525495</td>\n",
       "      <td>prod_4112</td>\n",
       "      <td>NaN</td>\n",
       "      <td>NaN</td>\n",
       "    </tr>\n",
       "    <tr>\n",
       "      <th>4</th>\n",
       "      <td>1</td>\n",
       "      <td>1</td>\n",
       "      <td>1708900981318</td>\n",
       "      <td>prod_3354</td>\n",
       "      <td>NaN</td>\n",
       "      <td>NaN</td>\n",
       "    </tr>\n",
       "  </tbody>\n",
       "</table>\n",
       "</div>"
      ],
      "text/plain": [
       "   UserID  SessionID      Timestamp  ProductID  Amount Outcome\n",
       "0       1          1  1720375226959        NaN     NaN     NaN\n",
       "1       1          1  1709676060072        NaN     NaN     NaN\n",
       "2       1          1  1711231690568  prod_8199     NaN     NaN\n",
       "3       1          1  1710203525495  prod_4112     NaN     NaN\n",
       "4       1          1  1708900981318  prod_3354     NaN     NaN"
      ]
     },
     "metadata": {},
     "output_type": "display_data"
    }
   ],
   "source": [
    "display(X.head())"
   ]
  },
  {
   "cell_type": "markdown",
   "id": "6856f6e4-2cd2-4077-a230-f1f33cd37ddc",
   "metadata": {},
   "source": [
    "#### Data Types in X values"
   ]
  },
  {
   "cell_type": "code",
   "execution_count": 25,
   "id": "f411a740-0b62-4d51-aa65-c66362164522",
   "metadata": {},
   "outputs": [
    {
     "data": {
      "text/plain": [
       "UserID         int64\n",
       "SessionID      int64\n",
       "Timestamp      int64\n",
       "ProductID     object\n",
       "Amount       float64\n",
       "Outcome       object\n",
       "dtype: object"
      ]
     },
     "metadata": {},
     "output_type": "display_data"
    }
   ],
   "source": [
    "display(X.dtypes)"
   ]
  },
  {
   "cell_type": "markdown",
   "id": "3611d8e7-cf27-493b-bda1-dc2088e34309",
   "metadata": {},
   "source": [
    "#### Now we calculate the value of the smallest Unix time value in order to later subtract it from other values ​​in the TimeStamp column in order to better scale the data"
   ]
  },
  {
   "cell_type": "code",
   "execution_count": 27,
   "id": "4c732146-f2de-413b-ae05-06bc7441330f",
   "metadata": {},
   "outputs": [
    {
     "name": "stdout",
     "output_type": "stream",
     "text": [
      "1704067295004\n"
     ]
    }
   ],
   "source": [
    "min_time = X['Timestamp'].min()\n",
    "print(min_time)"
   ]
  },
  {
   "cell_type": "markdown",
   "id": "4293a88d-0baa-477d-bece-0ee90ae61f2c",
   "metadata": {},
   "source": [
    "#### We now subtract the smallest value in the TimeStamp column from the rest of the values ​​in that column in order to minimize the values ​​in that column."
   ]
  },
  {
   "cell_type": "code",
   "execution_count": 29,
   "id": "5f0f2a10-a464-4502-b032-3b929587de40",
   "metadata": {},
   "outputs": [],
   "source": [
    "X['Timestamp'] = X['Timestamp']- min_time"
   ]
  },
  {
   "cell_type": "markdown",
   "id": "9dcf83ec-72ca-412c-b349-3b4508e54764",
   "metadata": {},
   "source": [
    "#### First 5 values from X DataFrame"
   ]
  },
  {
   "cell_type": "code",
   "execution_count": 31,
   "id": "c4a712a6-496f-4027-824e-93e7df59f6f4",
   "metadata": {},
   "outputs": [
    {
     "data": {
      "text/html": [
       "<div>\n",
       "<style scoped>\n",
       "    .dataframe tbody tr th:only-of-type {\n",
       "        vertical-align: middle;\n",
       "    }\n",
       "\n",
       "    .dataframe tbody tr th {\n",
       "        vertical-align: top;\n",
       "    }\n",
       "\n",
       "    .dataframe thead th {\n",
       "        text-align: right;\n",
       "    }\n",
       "</style>\n",
       "<table border=\"1\" class=\"dataframe\">\n",
       "  <thead>\n",
       "    <tr style=\"text-align: right;\">\n",
       "      <th></th>\n",
       "      <th>UserID</th>\n",
       "      <th>SessionID</th>\n",
       "      <th>Timestamp</th>\n",
       "      <th>ProductID</th>\n",
       "      <th>Amount</th>\n",
       "      <th>Outcome</th>\n",
       "    </tr>\n",
       "  </thead>\n",
       "  <tbody>\n",
       "    <tr>\n",
       "      <th>0</th>\n",
       "      <td>1</td>\n",
       "      <td>1</td>\n",
       "      <td>16307931955</td>\n",
       "      <td>NaN</td>\n",
       "      <td>NaN</td>\n",
       "      <td>NaN</td>\n",
       "    </tr>\n",
       "    <tr>\n",
       "      <th>1</th>\n",
       "      <td>1</td>\n",
       "      <td>1</td>\n",
       "      <td>5608765068</td>\n",
       "      <td>NaN</td>\n",
       "      <td>NaN</td>\n",
       "      <td>NaN</td>\n",
       "    </tr>\n",
       "    <tr>\n",
       "      <th>2</th>\n",
       "      <td>1</td>\n",
       "      <td>1</td>\n",
       "      <td>7164395564</td>\n",
       "      <td>prod_8199</td>\n",
       "      <td>NaN</td>\n",
       "      <td>NaN</td>\n",
       "    </tr>\n",
       "    <tr>\n",
       "      <th>3</th>\n",
       "      <td>1</td>\n",
       "      <td>1</td>\n",
       "      <td>6136230491</td>\n",
       "      <td>prod_4112</td>\n",
       "      <td>NaN</td>\n",
       "      <td>NaN</td>\n",
       "    </tr>\n",
       "    <tr>\n",
       "      <th>4</th>\n",
       "      <td>1</td>\n",
       "      <td>1</td>\n",
       "      <td>4833686314</td>\n",
       "      <td>prod_3354</td>\n",
       "      <td>NaN</td>\n",
       "      <td>NaN</td>\n",
       "    </tr>\n",
       "  </tbody>\n",
       "</table>\n",
       "</div>"
      ],
      "text/plain": [
       "   UserID  SessionID    Timestamp  ProductID  Amount Outcome\n",
       "0       1          1  16307931955        NaN     NaN     NaN\n",
       "1       1          1   5608765068        NaN     NaN     NaN\n",
       "2       1          1   7164395564  prod_8199     NaN     NaN\n",
       "3       1          1   6136230491  prod_4112     NaN     NaN\n",
       "4       1          1   4833686314  prod_3354     NaN     NaN"
      ]
     },
     "metadata": {},
     "output_type": "display_data"
    }
   ],
   "source": [
    "display(X.head())"
   ]
  },
  {
   "cell_type": "markdown",
   "id": "7c1ef6e2-bc95-4599-a8e1-ef5474b8f07e",
   "metadata": {},
   "source": [
    "### 1.4.2 Other string columns to numbers conversion\n",
    "\n",
    "After converting the TimeStamp column, which was special due to the specifics of the problem, we can convert the rest of the columns to numeric values.\n",
    "\n",
    "To do the conversion you can use LabelEncoder from Scikit-learn - it will convert repeating strings to numbers - each string will be represented by a specific number."
   ]
  },
  {
   "cell_type": "code",
   "execution_count": 33,
   "id": "1cb86343-5a15-44f5-983c-dca9348807dd",
   "metadata": {},
   "outputs": [],
   "source": [
    "le = LabelEncoder()\n",
    "for col in X.columns:\n",
    "    if X[col].dtype == 'object':\n",
    "        X[col] = le.fit_transform(X[col].astype(str))"
   ]
  },
  {
   "cell_type": "code",
   "execution_count": 34,
   "id": "91f55b9f-a8f8-409b-8547-ad3762a927c1",
   "metadata": {},
   "outputs": [
    {
     "name": "stdout",
     "output_type": "stream",
     "text": [
      "First 5 values from X DataFrame\n"
     ]
    },
    {
     "data": {
      "text/html": [
       "<div>\n",
       "<style scoped>\n",
       "    .dataframe tbody tr th:only-of-type {\n",
       "        vertical-align: middle;\n",
       "    }\n",
       "\n",
       "    .dataframe tbody tr th {\n",
       "        vertical-align: top;\n",
       "    }\n",
       "\n",
       "    .dataframe thead th {\n",
       "        text-align: right;\n",
       "    }\n",
       "</style>\n",
       "<table border=\"1\" class=\"dataframe\">\n",
       "  <thead>\n",
       "    <tr style=\"text-align: right;\">\n",
       "      <th></th>\n",
       "      <th>UserID</th>\n",
       "      <th>SessionID</th>\n",
       "      <th>Timestamp</th>\n",
       "      <th>ProductID</th>\n",
       "      <th>Amount</th>\n",
       "      <th>Outcome</th>\n",
       "    </tr>\n",
       "  </thead>\n",
       "  <tbody>\n",
       "    <tr>\n",
       "      <th>0</th>\n",
       "      <td>1</td>\n",
       "      <td>1</td>\n",
       "      <td>16307931955</td>\n",
       "      <td>0</td>\n",
       "      <td>NaN</td>\n",
       "      <td>0</td>\n",
       "    </tr>\n",
       "    <tr>\n",
       "      <th>1</th>\n",
       "      <td>1</td>\n",
       "      <td>1</td>\n",
       "      <td>5608765068</td>\n",
       "      <td>0</td>\n",
       "      <td>NaN</td>\n",
       "      <td>0</td>\n",
       "    </tr>\n",
       "    <tr>\n",
       "      <th>2</th>\n",
       "      <td>1</td>\n",
       "      <td>1</td>\n",
       "      <td>7164395564</td>\n",
       "      <td>7002</td>\n",
       "      <td>NaN</td>\n",
       "      <td>0</td>\n",
       "    </tr>\n",
       "    <tr>\n",
       "      <th>3</th>\n",
       "      <td>1</td>\n",
       "      <td>1</td>\n",
       "      <td>6136230491</td>\n",
       "      <td>3030</td>\n",
       "      <td>NaN</td>\n",
       "      <td>0</td>\n",
       "    </tr>\n",
       "    <tr>\n",
       "      <th>4</th>\n",
       "      <td>1</td>\n",
       "      <td>1</td>\n",
       "      <td>4833686314</td>\n",
       "      <td>2298</td>\n",
       "      <td>NaN</td>\n",
       "      <td>0</td>\n",
       "    </tr>\n",
       "  </tbody>\n",
       "</table>\n",
       "</div>"
      ],
      "text/plain": [
       "   UserID  SessionID    Timestamp  ProductID  Amount  Outcome\n",
       "0       1          1  16307931955          0     NaN        0\n",
       "1       1          1   5608765068          0     NaN        0\n",
       "2       1          1   7164395564       7002     NaN        0\n",
       "3       1          1   6136230491       3030     NaN        0\n",
       "4       1          1   4833686314       2298     NaN        0"
      ]
     },
     "metadata": {},
     "output_type": "display_data"
    }
   ],
   "source": [
    "print(\"First 5 values from X DataFrame\")\n",
    "display(X.head())"
   ]
  },
  {
   "cell_type": "markdown",
   "id": "218ba9f2-9268-41a3-bfab-73d945f34df3",
   "metadata": {},
   "source": [
    "## 1.4.3. Converting expected values ​​- y - to numbers\n",
    "\n",
    "The goal of prediction is to find one of many possible expected values ​​- the predicted value belongs to only one element from the set of possible predictions.\n",
    "\n",
    "The first step is to find the set of all possible events that can be predicted in a given problem. In this case, it is the set of all possible user actions that we intend to predict."
   ]
  },
  {
   "cell_type": "code",
   "execution_count": 36,
   "id": "03734114-e93e-460f-b881-4c8bf61b5520",
   "metadata": {},
   "outputs": [
    {
     "name": "stdout",
     "output_type": "stream",
     "text": [
      "['add_to_cart' 'click' 'login' 'logout' 'page_view' 'product_view'\n",
      " 'purchase']\n"
     ]
    }
   ],
   "source": [
    "y['EventType'] = y['EventType'].apply(lambda x: tuple(x) if isinstance(x, list) else x)\n",
    "\n",
    "event_types = y['EventType'].values\n",
    "\n",
    "unique_event_types = np.unique(event_types)\n",
    "\n",
    "print(unique_event_types)"
   ]
  },
  {
   "cell_type": "markdown",
   "id": "6aac3967-9485-42c1-ad1c-b2002304a0ec",
   "metadata": {},
   "source": [
    "#### We get a dictionary containing unique values ​​and subsequent indexes"
   ]
  },
  {
   "cell_type": "code",
   "execution_count": 38,
   "id": "387b8bad-b5bb-49d4-9399-6f3448b91444",
   "metadata": {},
   "outputs": [
    {
     "name": "stdout",
     "output_type": "stream",
     "text": [
      "{'add_to_cart': 0, 'click': 1, 'login': 2, 'logout': 3, 'page_view': 4, 'product_view': 5, 'purchase': 6}\n"
     ]
    }
   ],
   "source": [
    "event_type_to_index = {event_type: index for index, event_type in enumerate(unique_event_types)}\n",
    "print(event_type_to_index)"
   ]
  },
  {
   "cell_type": "markdown",
   "id": "9adbe088-2f68-42ce-b000-06bff0c5726f",
   "metadata": {},
   "source": [
    "#### These lines of code transform a list of event types into a tensor containing numeric indices"
   ]
  },
  {
   "cell_type": "code",
   "execution_count": 40,
   "id": "bcc0353b-4ec8-4c58-ba72-a8ee634ccdb2",
   "metadata": {},
   "outputs": [
    {
     "name": "stdout",
     "output_type": "stream",
     "text": [
      "tensor([4, 4, 5,  ..., 2, 6, 3])\n"
     ]
    }
   ],
   "source": [
    "event_indices = torch.tensor([event_type_to_index[event_type] for event_type in event_types])\n",
    "print(event_indices)"
   ]
  },
  {
   "cell_type": "markdown",
   "id": "0de60df0-110b-452c-9124-4d714114b830",
   "metadata": {},
   "source": [
    "#### Assigning events to a list with zeros meaning no event and ones meaning a specific event\n",
    "\n",
    "Reult is an Tensor"
   ]
  },
  {
   "cell_type": "code",
   "execution_count": 42,
   "id": "e0d93383-cf70-410a-bf25-f50797073142",
   "metadata": {},
   "outputs": [
    {
     "name": "stdout",
     "output_type": "stream",
     "text": [
      "tensor([[0, 0, 0,  ..., 1, 0, 0],\n",
      "        [0, 0, 0,  ..., 1, 0, 0],\n",
      "        [0, 0, 0,  ..., 0, 1, 0],\n",
      "        ...,\n",
      "        [0, 0, 1,  ..., 0, 0, 0],\n",
      "        [0, 0, 0,  ..., 0, 0, 1],\n",
      "        [0, 0, 0,  ..., 0, 0, 0]])\n"
     ]
    }
   ],
   "source": [
    "encoded_tensor = F.one_hot(event_indices, num_classes=len(unique_event_types))\n",
    "print(encoded_tensor)"
   ]
  },
  {
   "cell_type": "markdown",
   "id": "9412a580-b55c-45d1-bf72-4da378324730",
   "metadata": {},
   "source": [
    "#### Converting Tensor to Python List"
   ]
  },
  {
   "cell_type": "code",
   "execution_count": 44,
   "id": "0baeada2-0368-42a8-b98b-09fc410e10d0",
   "metadata": {},
   "outputs": [
    {
     "name": "stdout",
     "output_type": "stream",
     "text": [
      "74817\n",
      "[0, 0, 0, 0, 1, 0, 0]\n"
     ]
    }
   ],
   "source": [
    "encoded_list = encoded_tensor.tolist()\n",
    "print(len(encoded_list))\n",
    "print(encoded_list[0])"
   ]
  },
  {
   "cell_type": "markdown",
   "id": "c931d04f-5b59-4a16-b0c8-c923ae3d9234",
   "metadata": {},
   "source": [
    "#### Assign Python List with encoded events to DataFrame column"
   ]
  },
  {
   "cell_type": "code",
   "execution_count": 46,
   "id": "7f9b23d9-8871-4775-8037-fc41ccf9f6a5",
   "metadata": {},
   "outputs": [
    {
     "data": {
      "text/html": [
       "<div>\n",
       "<style scoped>\n",
       "    .dataframe tbody tr th:only-of-type {\n",
       "        vertical-align: middle;\n",
       "    }\n",
       "\n",
       "    .dataframe tbody tr th {\n",
       "        vertical-align: top;\n",
       "    }\n",
       "\n",
       "    .dataframe thead th {\n",
       "        text-align: right;\n",
       "    }\n",
       "</style>\n",
       "<table border=\"1\" class=\"dataframe\">\n",
       "  <thead>\n",
       "    <tr style=\"text-align: right;\">\n",
       "      <th></th>\n",
       "      <th>EventType</th>\n",
       "    </tr>\n",
       "  </thead>\n",
       "  <tbody>\n",
       "    <tr>\n",
       "      <th>0</th>\n",
       "      <td>[0, 0, 0, 0, 1, 0, 0]</td>\n",
       "    </tr>\n",
       "    <tr>\n",
       "      <th>1</th>\n",
       "      <td>[0, 0, 0, 0, 1, 0, 0]</td>\n",
       "    </tr>\n",
       "    <tr>\n",
       "      <th>2</th>\n",
       "      <td>[0, 0, 0, 0, 0, 1, 0]</td>\n",
       "    </tr>\n",
       "    <tr>\n",
       "      <th>3</th>\n",
       "      <td>[1, 0, 0, 0, 0, 0, 0]</td>\n",
       "    </tr>\n",
       "    <tr>\n",
       "      <th>4</th>\n",
       "      <td>[1, 0, 0, 0, 0, 0, 0]</td>\n",
       "    </tr>\n",
       "  </tbody>\n",
       "</table>\n",
       "</div>"
      ],
      "text/plain": [
       "               EventType\n",
       "0  [0, 0, 0, 0, 1, 0, 0]\n",
       "1  [0, 0, 0, 0, 1, 0, 0]\n",
       "2  [0, 0, 0, 0, 0, 1, 0]\n",
       "3  [1, 0, 0, 0, 0, 0, 0]\n",
       "4  [1, 0, 0, 0, 0, 0, 0]"
      ]
     },
     "execution_count": 46,
     "metadata": {},
     "output_type": "execute_result"
    }
   ],
   "source": [
    "y['EventType'] = encoded_list\n",
    "y.head()"
   ]
  },
  {
   "cell_type": "markdown",
   "id": "1d1eb9e9-c2d3-47d9-8e8c-c29a768d5af5",
   "metadata": {},
   "source": [
    "## 1.5. Scaling data\n",
    "\n",
    "In order to process the data efficiently, you need to scale the numeric values ​​so that there is not much difference between the values ​​- so as not to \"favor\" certain columns with values"
   ]
  },
  {
   "cell_type": "code",
   "execution_count": 48,
   "id": "d0851865-1b69-4587-9a76-0f65dead78e3",
   "metadata": {},
   "outputs": [],
   "source": [
    "timestamp_scaler = StandardScaler()\n",
    "product_id_scaler = StandardScaler()\n",
    "amount_scaler = StandardScaler()\n",
    "outcome_scaler = StandardScaler()\n",
    "\n",
    "# Skalowanie danych\n",
    "X['Timestamp'] = timestamp_scaler.fit_transform(X[['Timestamp']])\n",
    "X['ProductID'] = product_id_scaler.fit_transform(X[['ProductID']])\n",
    "X['Amount'] = amount_scaler.fit_transform(X[['Amount']])\n",
    "X['Outcome'] = outcome_scaler.fit_transform(X[['Outcome']])\n",
    "X.fillna(0, inplace=True)"
   ]
  },
  {
   "cell_type": "code",
   "execution_count": 49,
   "id": "573e3357-10f8-4369-b4a7-58acadd7609f",
   "metadata": {},
   "outputs": [
    {
     "data": {
      "text/html": [
       "<div>\n",
       "<style scoped>\n",
       "    .dataframe tbody tr th:only-of-type {\n",
       "        vertical-align: middle;\n",
       "    }\n",
       "\n",
       "    .dataframe tbody tr th {\n",
       "        vertical-align: top;\n",
       "    }\n",
       "\n",
       "    .dataframe thead th {\n",
       "        text-align: right;\n",
       "    }\n",
       "</style>\n",
       "<table border=\"1\" class=\"dataframe\">\n",
       "  <thead>\n",
       "    <tr style=\"text-align: right;\">\n",
       "      <th></th>\n",
       "      <th>UserID</th>\n",
       "      <th>SessionID</th>\n",
       "      <th>Timestamp</th>\n",
       "      <th>ProductID</th>\n",
       "      <th>Amount</th>\n",
       "      <th>Outcome</th>\n",
       "    </tr>\n",
       "  </thead>\n",
       "  <tbody>\n",
       "    <tr>\n",
       "      <th>0</th>\n",
       "      <td>1</td>\n",
       "      <td>1</td>\n",
       "      <td>1.446026</td>\n",
       "      <td>-0.690755</td>\n",
       "      <td>0.0</td>\n",
       "      <td>-0.408111</td>\n",
       "    </tr>\n",
       "    <tr>\n",
       "      <th>1</th>\n",
       "      <td>1</td>\n",
       "      <td>1</td>\n",
       "      <td>-0.639453</td>\n",
       "      <td>-0.690755</td>\n",
       "      <td>0.0</td>\n",
       "      <td>-0.408111</td>\n",
       "    </tr>\n",
       "    <tr>\n",
       "      <th>2</th>\n",
       "      <td>1</td>\n",
       "      <td>1</td>\n",
       "      <td>-0.336230</td>\n",
       "      <td>1.875891</td>\n",
       "      <td>0.0</td>\n",
       "      <td>-0.408111</td>\n",
       "    </tr>\n",
       "    <tr>\n",
       "      <th>3</th>\n",
       "      <td>1</td>\n",
       "      <td>1</td>\n",
       "      <td>-0.536640</td>\n",
       "      <td>0.419919</td>\n",
       "      <td>0.0</td>\n",
       "      <td>-0.408111</td>\n",
       "    </tr>\n",
       "    <tr>\n",
       "      <th>4</th>\n",
       "      <td>1</td>\n",
       "      <td>1</td>\n",
       "      <td>-0.790532</td>\n",
       "      <td>0.151597</td>\n",
       "      <td>0.0</td>\n",
       "      <td>-0.408111</td>\n",
       "    </tr>\n",
       "  </tbody>\n",
       "</table>\n",
       "</div>"
      ],
      "text/plain": [
       "   UserID  SessionID  Timestamp  ProductID  Amount   Outcome\n",
       "0       1          1   1.446026  -0.690755     0.0 -0.408111\n",
       "1       1          1  -0.639453  -0.690755     0.0 -0.408111\n",
       "2       1          1  -0.336230   1.875891     0.0 -0.408111\n",
       "3       1          1  -0.536640   0.419919     0.0 -0.408111\n",
       "4       1          1  -0.790532   0.151597     0.0 -0.408111"
      ]
     },
     "execution_count": 49,
     "metadata": {},
     "output_type": "execute_result"
    }
   ],
   "source": [
    "X.head()"
   ]
  },
  {
   "cell_type": "code",
   "execution_count": 50,
   "id": "49d4dec7-f29f-42a6-8c1e-2185ad5d8598",
   "metadata": {},
   "outputs": [
    {
     "data": {
      "text/html": [
       "<div>\n",
       "<style scoped>\n",
       "    .dataframe tbody tr th:only-of-type {\n",
       "        vertical-align: middle;\n",
       "    }\n",
       "\n",
       "    .dataframe tbody tr th {\n",
       "        vertical-align: top;\n",
       "    }\n",
       "\n",
       "    .dataframe thead th {\n",
       "        text-align: right;\n",
       "    }\n",
       "</style>\n",
       "<table border=\"1\" class=\"dataframe\">\n",
       "  <thead>\n",
       "    <tr style=\"text-align: right;\">\n",
       "      <th></th>\n",
       "      <th>EventType</th>\n",
       "    </tr>\n",
       "  </thead>\n",
       "  <tbody>\n",
       "    <tr>\n",
       "      <th>0</th>\n",
       "      <td>[0, 0, 0, 0, 1, 0, 0]</td>\n",
       "    </tr>\n",
       "    <tr>\n",
       "      <th>1</th>\n",
       "      <td>[0, 0, 0, 0, 1, 0, 0]</td>\n",
       "    </tr>\n",
       "    <tr>\n",
       "      <th>2</th>\n",
       "      <td>[0, 0, 0, 0, 0, 1, 0]</td>\n",
       "    </tr>\n",
       "    <tr>\n",
       "      <th>3</th>\n",
       "      <td>[1, 0, 0, 0, 0, 0, 0]</td>\n",
       "    </tr>\n",
       "    <tr>\n",
       "      <th>4</th>\n",
       "      <td>[1, 0, 0, 0, 0, 0, 0]</td>\n",
       "    </tr>\n",
       "  </tbody>\n",
       "</table>\n",
       "</div>"
      ],
      "text/plain": [
       "               EventType\n",
       "0  [0, 0, 0, 0, 1, 0, 0]\n",
       "1  [0, 0, 0, 0, 1, 0, 0]\n",
       "2  [0, 0, 0, 0, 0, 1, 0]\n",
       "3  [1, 0, 0, 0, 0, 0, 0]\n",
       "4  [1, 0, 0, 0, 0, 0, 0]"
      ]
     },
     "execution_count": 50,
     "metadata": {},
     "output_type": "execute_result"
    }
   ],
   "source": [
    "y.head()"
   ]
  },
  {
   "cell_type": "code",
   "execution_count": 51,
   "id": "1de34761-0adf-4f61-89e6-3b63dba96262",
   "metadata": {},
   "outputs": [
    {
     "data": {
      "text/html": [
       "<div>\n",
       "<style scoped>\n",
       "    .dataframe tbody tr th:only-of-type {\n",
       "        vertical-align: middle;\n",
       "    }\n",
       "\n",
       "    .dataframe tbody tr th {\n",
       "        vertical-align: top;\n",
       "    }\n",
       "\n",
       "    .dataframe thead th {\n",
       "        text-align: right;\n",
       "    }\n",
       "</style>\n",
       "<table border=\"1\" class=\"dataframe\">\n",
       "  <thead>\n",
       "    <tr style=\"text-align: right;\">\n",
       "      <th></th>\n",
       "      <th>UserID</th>\n",
       "      <th>SessionID</th>\n",
       "      <th>Timestamp</th>\n",
       "      <th>ProductID</th>\n",
       "      <th>Amount</th>\n",
       "      <th>Outcome</th>\n",
       "    </tr>\n",
       "  </thead>\n",
       "  <tbody>\n",
       "    <tr>\n",
       "      <th>count</th>\n",
       "      <td>74817.000000</td>\n",
       "      <td>74817.000000</td>\n",
       "      <td>7.481700e+04</td>\n",
       "      <td>7.481700e+04</td>\n",
       "      <td>7.481700e+04</td>\n",
       "      <td>7.481700e+04</td>\n",
       "    </tr>\n",
       "    <tr>\n",
       "      <th>mean</th>\n",
       "      <td>500.740741</td>\n",
       "      <td>5.509777</td>\n",
       "      <td>8.338433e-17</td>\n",
       "      <td>-1.106409e-17</td>\n",
       "      <td>-4.252316e-17</td>\n",
       "      <td>-8.879766e-17</td>\n",
       "    </tr>\n",
       "    <tr>\n",
       "      <th>std</th>\n",
       "      <td>288.945183</td>\n",
       "      <td>2.869337</td>\n",
       "      <td>1.000007e+00</td>\n",
       "      <td>1.000007e+00</td>\n",
       "      <td>3.778584e-01</td>\n",
       "      <td>1.000007e+00</td>\n",
       "    </tr>\n",
       "    <tr>\n",
       "      <th>min</th>\n",
       "      <td>1.000000</td>\n",
       "      <td>1.000000</td>\n",
       "      <td>-1.732713e+00</td>\n",
       "      <td>-6.907549e-01</td>\n",
       "      <td>-1.734219e+00</td>\n",
       "      <td>-4.081114e-01</td>\n",
       "    </tr>\n",
       "    <tr>\n",
       "      <th>25%</th>\n",
       "      <td>251.000000</td>\n",
       "      <td>3.000000</td>\n",
       "      <td>-8.705337e-01</td>\n",
       "      <td>-6.907549e-01</td>\n",
       "      <td>0.000000e+00</td>\n",
       "      <td>-4.081114e-01</td>\n",
       "    </tr>\n",
       "    <tr>\n",
       "      <th>50%</th>\n",
       "      <td>501.000000</td>\n",
       "      <td>6.000000</td>\n",
       "      <td>2.499970e-03</td>\n",
       "      <td>-6.907549e-01</td>\n",
       "      <td>0.000000e+00</td>\n",
       "      <td>-4.081114e-01</td>\n",
       "    </tr>\n",
       "    <tr>\n",
       "      <th>75%</th>\n",
       "      <td>751.000000</td>\n",
       "      <td>8.000000</td>\n",
       "      <td>8.660787e-01</td>\n",
       "      <td>6.618475e-01</td>\n",
       "      <td>0.000000e+00</td>\n",
       "      <td>-4.081114e-01</td>\n",
       "    </tr>\n",
       "    <tr>\n",
       "      <th>max</th>\n",
       "      <td>1000.000000</td>\n",
       "      <td>10.000000</td>\n",
       "      <td>1.726858e+00</td>\n",
       "      <td>2.515536e+00</td>\n",
       "      <td>1.725367e+00</td>\n",
       "      <td>2.450311e+00</td>\n",
       "    </tr>\n",
       "  </tbody>\n",
       "</table>\n",
       "</div>"
      ],
      "text/plain": [
       "             UserID     SessionID     Timestamp     ProductID        Amount  \\\n",
       "count  74817.000000  74817.000000  7.481700e+04  7.481700e+04  7.481700e+04   \n",
       "mean     500.740741      5.509777  8.338433e-17 -1.106409e-17 -4.252316e-17   \n",
       "std      288.945183      2.869337  1.000007e+00  1.000007e+00  3.778584e-01   \n",
       "min        1.000000      1.000000 -1.732713e+00 -6.907549e-01 -1.734219e+00   \n",
       "25%      251.000000      3.000000 -8.705337e-01 -6.907549e-01  0.000000e+00   \n",
       "50%      501.000000      6.000000  2.499970e-03 -6.907549e-01  0.000000e+00   \n",
       "75%      751.000000      8.000000  8.660787e-01  6.618475e-01  0.000000e+00   \n",
       "max     1000.000000     10.000000  1.726858e+00  2.515536e+00  1.725367e+00   \n",
       "\n",
       "            Outcome  \n",
       "count  7.481700e+04  \n",
       "mean  -8.879766e-17  \n",
       "std    1.000007e+00  \n",
       "min   -4.081114e-01  \n",
       "25%   -4.081114e-01  \n",
       "50%   -4.081114e-01  \n",
       "75%   -4.081114e-01  \n",
       "max    2.450311e+00  "
      ]
     },
     "execution_count": 51,
     "metadata": {},
     "output_type": "execute_result"
    }
   ],
   "source": [
    "X.describe()"
   ]
  },
  {
   "cell_type": "markdown",
   "id": "3379191d-734a-4ed9-98dc-2c3609a36e4d",
   "metadata": {},
   "source": [
    "## 1.6 Prepare data to loading into model"
   ]
  },
  {
   "cell_type": "markdown",
   "id": "3e143bfa-b618-4e52-b4b6-2f93c1b9b2fa",
   "metadata": {},
   "source": [
    "#### 1.6.1. Dividing data into training and test"
   ]
  },
  {
   "cell_type": "code",
   "execution_count": 54,
   "id": "6ab66de4-6fc2-426e-b5c1-0496c8ac22f6",
   "metadata": {},
   "outputs": [],
   "source": [
    "input_train, input_test, target_train, target_test = train_test_split(X, y, test_size=0.2, random_state=42)"
   ]
  },
  {
   "cell_type": "markdown",
   "id": "4e488c70-35b2-4d3b-bf44-350b4293292e",
   "metadata": {},
   "source": [
    "#### 1.6.2. Preparing Dataset class to loading a data"
   ]
  },
  {
   "cell_type": "code",
   "execution_count": 56,
   "id": "c7f295d0-6298-4992-b177-8b9e907b2790",
   "metadata": {},
   "outputs": [],
   "source": [
    "class EventDataset(Dataset):\n",
    "    def __init__(self, data, labels):\n",
    "        self.data = data\n",
    "        self.labels = labels\n",
    "\n",
    "    def __len__(self):\n",
    "        return len(self.data)\n",
    "\n",
    "    def __getitem__(self, idx):\n",
    "        sample = torch.tensor(self.data.iloc[idx].values, dtype=torch.float32)  \n",
    "        label = torch.tensor(self.labels.iloc[idx].item(), dtype=torch.float32)  \n",
    "        return sample, label"
   ]
  },
  {
   "cell_type": "markdown",
   "id": "3289e14a-bf6c-4f8e-9e85-b4abd9fb504c",
   "metadata": {},
   "source": [
    "#### 1.6.3. Preparing datasets and dataloaders"
   ]
  },
  {
   "cell_type": "code",
   "execution_count": 58,
   "id": "e498ace3-3eb6-4719-9c19-38fe427e21ea",
   "metadata": {},
   "outputs": [],
   "source": [
    "train_dataset = EventDataset(input_train, target_train)\n",
    "train_dataloader = DataLoader(train_dataset, batch_size=32, shuffle=True)\n",
    "\n",
    "test_dataset = EventDataset(input_test, target_test)\n",
    "test_dataloader = DataLoader(test_dataset, batch_size=32, shuffle=False)"
   ]
  },
  {
   "cell_type": "code",
   "execution_count": 59,
   "id": "45f7de7e-f663-4ff9-80f1-f9c7d4aed627",
   "metadata": {},
   "outputs": [
    {
     "data": {
      "text/html": [
       "<div>\n",
       "<style scoped>\n",
       "    .dataframe tbody tr th:only-of-type {\n",
       "        vertical-align: middle;\n",
       "    }\n",
       "\n",
       "    .dataframe tbody tr th {\n",
       "        vertical-align: top;\n",
       "    }\n",
       "\n",
       "    .dataframe thead th {\n",
       "        text-align: right;\n",
       "    }\n",
       "</style>\n",
       "<table border=\"1\" class=\"dataframe\">\n",
       "  <thead>\n",
       "    <tr style=\"text-align: right;\">\n",
       "      <th></th>\n",
       "      <th>UserID</th>\n",
       "      <th>SessionID</th>\n",
       "      <th>Timestamp</th>\n",
       "      <th>ProductID</th>\n",
       "      <th>Amount</th>\n",
       "      <th>Outcome</th>\n",
       "    </tr>\n",
       "  </thead>\n",
       "  <tbody>\n",
       "    <tr>\n",
       "      <th>30862</th>\n",
       "      <td>414</td>\n",
       "      <td>3</td>\n",
       "      <td>-0.030110</td>\n",
       "      <td>-0.690755</td>\n",
       "      <td>0.000000</td>\n",
       "      <td>-0.408111</td>\n",
       "    </tr>\n",
       "    <tr>\n",
       "      <th>21696</th>\n",
       "      <td>292</td>\n",
       "      <td>1</td>\n",
       "      <td>1.601829</td>\n",
       "      <td>-0.690755</td>\n",
       "      <td>0.000000</td>\n",
       "      <td>-0.408111</td>\n",
       "    </tr>\n",
       "    <tr>\n",
       "      <th>54163</th>\n",
       "      <td>725</td>\n",
       "      <td>3</td>\n",
       "      <td>-0.489833</td>\n",
       "      <td>-0.314299</td>\n",
       "      <td>0.316822</td>\n",
       "      <td>2.450311</td>\n",
       "    </tr>\n",
       "    <tr>\n",
       "      <th>14463</th>\n",
       "      <td>193</td>\n",
       "      <td>9</td>\n",
       "      <td>0.747261</td>\n",
       "      <td>-0.337026</td>\n",
       "      <td>0.000000</td>\n",
       "      <td>-0.408111</td>\n",
       "    </tr>\n",
       "    <tr>\n",
       "      <th>63524</th>\n",
       "      <td>850</td>\n",
       "      <td>7</td>\n",
       "      <td>0.798924</td>\n",
       "      <td>-0.690755</td>\n",
       "      <td>0.000000</td>\n",
       "      <td>-0.408111</td>\n",
       "    </tr>\n",
       "  </tbody>\n",
       "</table>\n",
       "</div>"
      ],
      "text/plain": [
       "       UserID  SessionID  Timestamp  ProductID    Amount   Outcome\n",
       "30862     414          3  -0.030110  -0.690755  0.000000 -0.408111\n",
       "21696     292          1   1.601829  -0.690755  0.000000 -0.408111\n",
       "54163     725          3  -0.489833  -0.314299  0.316822  2.450311\n",
       "14463     193          9   0.747261  -0.337026  0.000000 -0.408111\n",
       "63524     850          7   0.798924  -0.690755  0.000000 -0.408111"
      ]
     },
     "execution_count": 59,
     "metadata": {},
     "output_type": "execute_result"
    }
   ],
   "source": [
    "input_test.head()"
   ]
  },
  {
   "cell_type": "code",
   "execution_count": 60,
   "id": "b08ed48b-c138-47e1-aead-16d9a5181b6e",
   "metadata": {},
   "outputs": [
    {
     "data": {
      "text/html": [
       "<div>\n",
       "<style scoped>\n",
       "    .dataframe tbody tr th:only-of-type {\n",
       "        vertical-align: middle;\n",
       "    }\n",
       "\n",
       "    .dataframe tbody tr th {\n",
       "        vertical-align: top;\n",
       "    }\n",
       "\n",
       "    .dataframe thead th {\n",
       "        text-align: right;\n",
       "    }\n",
       "</style>\n",
       "<table border=\"1\" class=\"dataframe\">\n",
       "  <thead>\n",
       "    <tr style=\"text-align: right;\">\n",
       "      <th></th>\n",
       "      <th>UserID</th>\n",
       "      <th>SessionID</th>\n",
       "      <th>Timestamp</th>\n",
       "      <th>ProductID</th>\n",
       "      <th>Amount</th>\n",
       "      <th>Outcome</th>\n",
       "    </tr>\n",
       "  </thead>\n",
       "  <tbody>\n",
       "    <tr>\n",
       "      <th>count</th>\n",
       "      <td>14964.000000</td>\n",
       "      <td>14964.000000</td>\n",
       "      <td>14964.000000</td>\n",
       "      <td>14964.000000</td>\n",
       "      <td>14964.000000</td>\n",
       "      <td>14964.000000</td>\n",
       "    </tr>\n",
       "    <tr>\n",
       "      <th>mean</th>\n",
       "      <td>499.919407</td>\n",
       "      <td>5.512563</td>\n",
       "      <td>-0.007671</td>\n",
       "      <td>0.003390</td>\n",
       "      <td>-0.002384</td>\n",
       "      <td>0.008885</td>\n",
       "    </tr>\n",
       "    <tr>\n",
       "      <th>std</th>\n",
       "      <td>287.330171</td>\n",
       "      <td>2.877092</td>\n",
       "      <td>0.994691</td>\n",
       "      <td>1.001173</td>\n",
       "      <td>0.379604</td>\n",
       "      <td>1.009026</td>\n",
       "    </tr>\n",
       "    <tr>\n",
       "      <th>min</th>\n",
       "      <td>1.000000</td>\n",
       "      <td>1.000000</td>\n",
       "      <td>-1.732187</td>\n",
       "      <td>-0.690755</td>\n",
       "      <td>-1.728077</td>\n",
       "      <td>-0.408111</td>\n",
       "    </tr>\n",
       "    <tr>\n",
       "      <th>25%</th>\n",
       "      <td>253.000000</td>\n",
       "      <td>3.000000</td>\n",
       "      <td>-0.872808</td>\n",
       "      <td>-0.690755</td>\n",
       "      <td>0.000000</td>\n",
       "      <td>-0.408111</td>\n",
       "    </tr>\n",
       "    <tr>\n",
       "      <th>50%</th>\n",
       "      <td>499.000000</td>\n",
       "      <td>6.000000</td>\n",
       "      <td>-0.014781</td>\n",
       "      <td>-0.690755</td>\n",
       "      <td>0.000000</td>\n",
       "      <td>-0.408111</td>\n",
       "    </tr>\n",
       "    <tr>\n",
       "      <th>75%</th>\n",
       "      <td>746.000000</td>\n",
       "      <td>8.000000</td>\n",
       "      <td>0.847633</td>\n",
       "      <td>0.667346</td>\n",
       "      <td>0.000000</td>\n",
       "      <td>-0.408111</td>\n",
       "    </tr>\n",
       "    <tr>\n",
       "      <th>max</th>\n",
       "      <td>1000.000000</td>\n",
       "      <td>10.000000</td>\n",
       "      <td>1.726773</td>\n",
       "      <td>2.515169</td>\n",
       "      <td>1.723911</td>\n",
       "      <td>2.450311</td>\n",
       "    </tr>\n",
       "  </tbody>\n",
       "</table>\n",
       "</div>"
      ],
      "text/plain": [
       "             UserID     SessionID     Timestamp     ProductID        Amount  \\\n",
       "count  14964.000000  14964.000000  14964.000000  14964.000000  14964.000000   \n",
       "mean     499.919407      5.512563     -0.007671      0.003390     -0.002384   \n",
       "std      287.330171      2.877092      0.994691      1.001173      0.379604   \n",
       "min        1.000000      1.000000     -1.732187     -0.690755     -1.728077   \n",
       "25%      253.000000      3.000000     -0.872808     -0.690755      0.000000   \n",
       "50%      499.000000      6.000000     -0.014781     -0.690755      0.000000   \n",
       "75%      746.000000      8.000000      0.847633      0.667346      0.000000   \n",
       "max     1000.000000     10.000000      1.726773      2.515169      1.723911   \n",
       "\n",
       "            Outcome  \n",
       "count  14964.000000  \n",
       "mean       0.008885  \n",
       "std        1.009026  \n",
       "min       -0.408111  \n",
       "25%       -0.408111  \n",
       "50%       -0.408111  \n",
       "75%       -0.408111  \n",
       "max        2.450311  "
      ]
     },
     "execution_count": 60,
     "metadata": {},
     "output_type": "execute_result"
    }
   ],
   "source": [
    "input_test.describe()"
   ]
  },
  {
   "cell_type": "markdown",
   "id": "e4a67d06-e1e4-4592-acd9-ad4955c52fcb",
   "metadata": {},
   "source": [
    "# 2.0 Prepering model"
   ]
  },
  {
   "cell_type": "markdown",
   "id": "37beceac-acb5-4a9e-8653-3158820c873f",
   "metadata": {},
   "source": [
    "### 2.1. Prepareing model class"
   ]
  },
  {
   "cell_type": "code",
   "execution_count": 63,
   "id": "51b5d152-28e5-4218-81ca-89c2354ebd71",
   "metadata": {},
   "outputs": [],
   "source": [
    "class RNNModel(nn.Module):\n",
    "    def __init__(self, input_size, hidden_size, output_size, num_layers=1):\n",
    "        super(RNNModel, self).__init__()\n",
    "        self.hidden_size = hidden_size\n",
    "        self.num_layers = num_layers\n",
    "        self.rnn = nn.RNN(input_size, hidden_size, num_layers, batch_first=True)\n",
    "        self.fc = nn.Linear(hidden_size, output_size)\n",
    "\n",
    "    def forward(self, x):\n",
    "        h0 = torch.zeros(self.num_layers, x.size(0), self.hidden_size).to(x.device)  # Stan początkowy\n",
    "        out, _ = self.rnn(x, h0)\n",
    "        out = self.fc(out[:, -1, :])  # Ostatni krok sekwencji\n",
    "        return out\n"
   ]
  },
  {
   "cell_type": "markdown",
   "id": "df12f2b0-1938-49b5-bd3b-f1647875744d",
   "metadata": {},
   "source": [
    "### 2.2. Preparing model instance"
   ]
  },
  {
   "cell_type": "markdown",
   "id": "903ec7fb-8ec2-42ad-911b-c11e7c08dacc",
   "metadata": {},
   "source": [
    "#### 2.2.1. Prepare parameters"
   ]
  },
  {
   "cell_type": "code",
   "execution_count": 66,
   "id": "dbabd187-288d-4582-a193-6df51dc79784",
   "metadata": {},
   "outputs": [],
   "source": [
    "input_size = input_train.shape[1]  # Liczba cech wejściowych\n",
    "hidden_size = 64  # Liczba neuronów w warstwie ukrytej\n",
    "output_size = 7  # Liczba klas\n",
    "num_layers = 1"
   ]
  },
  {
   "cell_type": "markdown",
   "id": "3427dc9e-8c2e-4349-9b2c-c39655be8c2c",
   "metadata": {},
   "source": [
    "#### 2.2.2. Model instance"
   ]
  },
  {
   "cell_type": "code",
   "execution_count": 68,
   "id": "d1336fab-e1fd-4cfb-a014-d70cf7f34044",
   "metadata": {},
   "outputs": [],
   "source": [
    "model = RNNModel(input_size, hidden_size, output_size, num_layers)\n",
    "criterion = nn.CrossEntropyLoss()  # Ponieważ targety są klasyfikacją wieloklasową\n",
    "optimizer = optim.Adam(model.parameters(), lr=0.001)"
   ]
  },
  {
   "cell_type": "markdown",
   "id": "c148efd7-93a6-426c-a6d0-b63b3297aeb6",
   "metadata": {},
   "source": [
    "# 3.0 Trening and testing"
   ]
  },
  {
   "cell_type": "markdown",
   "id": "eee47479-f0ae-47f0-9537-006c0ffa6cc3",
   "metadata": {},
   "source": [
    "#### 3.1. Trening"
   ]
  },
  {
   "cell_type": "code",
   "execution_count": 71,
   "id": "53e40838-4bea-4853-8239-d9838b8f7c22",
   "metadata": {},
   "outputs": [
    {
     "name": "stdout",
     "output_type": "stream",
     "text": [
      "Epoch 1, Loss: 1.3260, Accuracy: 37.70%\n",
      "Epoch 2, Loss: 1.1038, Accuracy: 41.35%\n",
      "Epoch 3, Loss: 1.0808, Accuracy: 41.99%\n",
      "Epoch 4, Loss: 1.0727, Accuracy: 41.99%\n",
      "Epoch 5, Loss: 1.0706, Accuracy: 41.98%\n",
      "Epoch 6, Loss: 1.0632, Accuracy: 41.97%\n",
      "Epoch 7, Loss: 1.0615, Accuracy: 42.22%\n",
      "Epoch 8, Loss: 1.0644, Accuracy: 41.84%\n",
      "Epoch 9, Loss: 1.0575, Accuracy: 42.19%\n",
      "Epoch 10, Loss: 1.0570, Accuracy: 42.21%\n"
     ]
    }
   ],
   "source": [
    "num_epochs = 10\n",
    "\n",
    "losses = []\n",
    "accuracies = []\n",
    "\n",
    "for epoch in range(num_epochs):\n",
    "    model.train()\n",
    "    total_loss = 0\n",
    "    correct = 0\n",
    "    total = 0\n",
    "\n",
    "    for inputs, targets in train_dataloader:\n",
    "        inputs_reshaped = inputs.unsqueeze(1)\n",
    "        targets = targets.squeeze(1)\n",
    "\n",
    "        optimizer.zero_grad()\n",
    "        outputs = model(inputs_reshaped)\n",
    "\n",
    "        if targets.dim() > 1:\n",
    "            targets = torch.argmax(targets, dim=1)\n",
    "\n",
    "        loss = criterion(outputs, targets)\n",
    "        loss.backward()\n",
    "        optimizer.step()\n",
    "\n",
    "        total_loss += loss.item()\n",
    "\n",
    "        _, predicted = torch.max(outputs.data, 1)\n",
    "        total += targets.size(0)\n",
    "        correct += (predicted == targets).sum().item()\n",
    "\n",
    "    epoch_loss = total_loss / len(train_dataloader)\n",
    "    epoch_accuracy = 100 * correct / total\n",
    "\n",
    "    losses.append(epoch_loss)\n",
    "    accuracies.append(epoch_accuracy)\n",
    "\n",
    "    print(f\"Epoch {epoch+1}, Loss: {epoch_loss:.4f}, Accuracy: {epoch_accuracy:.2f}%\")"
   ]
  },
  {
   "cell_type": "markdown",
   "id": "020b812a-7e98-4f58-8772-d13e11fcc7c3",
   "metadata": {},
   "source": [
    "#### 3.1.1. Model trening plots"
   ]
  },
  {
   "cell_type": "code",
   "execution_count": 73,
   "id": "41024cd4-7813-4c27-b7e6-d07b87cb74f6",
   "metadata": {},
   "outputs": [
    {
     "data": {
      "image/png": "[encoded data removed]",
      "text/plain": [
       "<Figure size 1200x500 with 2 Axes>"
      ]
     },
     "metadata": {},
     "output_type": "display_data"
    }
   ],
   "source": [
    "plt.figure(figsize=(12, 5))\n",
    "plt.subplot(1, 2, 1)\n",
    "plt.plot(losses)\n",
    "plt.title('Training Loss')\n",
    "plt.xlabel('Epoch')\n",
    "plt.ylabel('Loss')\n",
    "\n",
    "plt.subplot(1, 2, 2)\n",
    "plt.plot(accuracies)\n",
    "plt.title('Training Accuracy')\n",
    "plt.xlabel('Epoch')\n",
    "plt.ylabel('Accuracy (%)')\n",
    "\n",
    "plt.tight_layout()\n",
    "plt.show()"
   ]
  },
  {
   "cell_type": "markdown",
   "id": "5d1236cc-81ed-4a32-9254-cd493cdf536b",
   "metadata": {},
   "source": [
    "### 3.2. Model testing"
   ]
  },
  {
   "cell_type": "code",
   "execution_count": 75,
   "id": "68bac4fa-506a-472e-90c3-d88467e85ad1",
   "metadata": {},
   "outputs": [],
   "source": [
    "model.eval()\n",
    "\n",
    "correct = 0\n",
    "total = 0\n",
    "accuracies = []\n",
    "all_targets = []\n",
    "all_probs = []\n",
    "\n",
    "\n",
    "with torch.no_grad(): \n",
    "    for inputs, targets in test_dataloader:\n",
    "        inputs_reshaped = inputs.unsqueeze(1)\n",
    "        targets = targets.squeeze(1)\n",
    "\n",
    "        outputs = model(inputs_reshaped)\n",
    "        _, predicted = torch.max(outputs, 1)\n",
    "\n",
    "        targets = torch.argmax(targets, dim=1) \n",
    "\n",
    "        total += targets.size(0)\n",
    "        correct += (predicted == targets).sum().item()\n",
    "\n",
    "        accuracy = 100 * correct / total\n",
    "        accuracies.append(accuracy)\n",
    "\n",
    "        probs = torch.nn.functional.softmax(outputs, dim=1).cpu().numpy() \n",
    "        all_probs.extend(probs)\n",
    "        all_targets.extend(targets.cpu().numpy())\n",
    "\n",
    "\n",
    "all_targets = np.array(all_targets)\n",
    "all_probs = np.array(all_probs)\n",
    "n_classes = all_probs.shape[1]\n",
    "binarized_targets = label_binarize(all_targets, classes=np.arange(n_classes))\n",
    "\n",
    "fpr = dict()\n",
    "tpr = dict()\n",
    "roc_auc = dict()\n",
    "for i in range(n_classes):\n",
    "    fpr[i], tpr[i], _ = roc_curve(binarized_targets[:, i], all_probs[:, i])\n",
    "    roc_auc[i] = auc(fpr[i], tpr[i])\n",
    "\n"
   ]
  },
  {
   "cell_type": "markdown",
   "id": "158eea89-1297-4179-9e96-9db5ca64738d",
   "metadata": {},
   "source": [
    "#### 3.2.1. Model testing result"
   ]
  },
  {
   "cell_type": "code",
   "execution_count": 77,
   "id": "92e4c964-d6ac-4e24-bc60-71ac8332fe43",
   "metadata": {},
   "outputs": [
    {
     "data": {
      "image/png": "[encoded data removed]",
      "text/plain": [
       "<Figure size 1200x500 with 2 Axes>"
      ]
     },
     "metadata": {},
     "output_type": "display_data"
    }
   ],
   "source": [
    "plt.figure(figsize=(12, 5))\n",
    "\n",
    "plt.subplot(1, 2, 1)\n",
    "plt.plot(accuracies, label=\"Dokładność na zbiorze testowym\")\n",
    "plt.xlabel(\"Numer batcha\")\n",
    "plt.ylabel(\"Dokładność (%)\")\n",
    "plt.title(\"Dokładność modelu na zbiorze testowym\")\n",
    "plt.legend()\n",
    "\n",
    "plt.subplot(1, 2, 2)\n",
    "for i in range(n_classes):\n",
    "    plt.plot(fpr[i], tpr[i], label=f\"Klasa {i} (AUC = {roc_auc[i]:.2f})\")\n",
    "plt.plot([0, 1], [0, 1], linestyle='--')\n",
    "plt.xlabel(\"False Positive Rate\")\n",
    "plt.ylabel(\"True Positive Rate\")\n",
    "plt.title(\"Krzywa ROC (One-vs-Rest)\")\n",
    "plt.legend()\n",
    "\n",
    "plt.tight_layout()\n",
    "plt.show()"
   ]
  },
  {
   "cell_type": "code",
   "execution_count": null,
   "id": "86818808-878e-4ff5-b7ca-4c9ccf0f12e8",
   "metadata": {},
   "outputs": [],
   "source": []
  }
 ],
 "metadata": {
  "kernelspec": {
   "display_name": "Python [conda env:base] *",
   "language": "python",
   "name": "conda-base-py"
  },
  "language_info": {
   "codemirror_mode": {
    "name": "ipython",
    "version": 3
   },
   "file_extension": ".py",
   "mimetype": "text/x-python",
   "name": "python",
   "nbconvert_exporter": "python",
   "pygments_lexer": "ipython3",
   "version": "3.12.7"
  }
 },
 "nbformat": 4,
 "nbformat_minor": 5
}
